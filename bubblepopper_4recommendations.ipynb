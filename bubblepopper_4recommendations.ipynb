{
 "cells": [
  {
   "cell_type": "markdown",
   "metadata": {},
   "source": [
    "# RECOMMENDATIONS"
   ]
  },
  {
   "cell_type": "markdown",
   "metadata": {},
   "source": [
    "## Recommendation Stability"
   ]
  },
  {
   "cell_type": "code",
   "execution_count": 2,
   "metadata": {
    "collapsed": false
   },
   "outputs": [],
   "source": [
    "from bubble_popper_model import twitter_profile,twitter_links,twitter_articles\n",
    "from bubble_popper_model import clean_articles,article_topics,publication_scores\n",
    "from bubble_popper_model import define_bubble,burst_bubble"
   ]
  },
  {
   "cell_type": "code",
   "execution_count": 3,
   "metadata": {
    "collapsed": true
   },
   "outputs": [],
   "source": [
    "import tweepy\n",
    "from sqlalchemy import create_engine\n",
    "from sqlalchemy_utils import database_exists, create_database\n",
    "import psycopg2\n",
    "import pandas as pd"
   ]
  },
  {
   "cell_type": "code",
   "execution_count": 4,
   "metadata": {
    "collapsed": true
   },
   "outputs": [],
   "source": [
    "from sklearn.metrics.pairwise import cosine_similarity\n",
    "import numpy as np"
   ]
  },
  {
   "cell_type": "code",
   "execution_count": 5,
   "metadata": {
    "collapsed": true
   },
   "outputs": [],
   "source": [
    "from time import sleep\n",
    "import pickle"
   ]
  },
  {
   "cell_type": "code",
   "execution_count": 6,
   "metadata": {
    "collapsed": true
   },
   "outputs": [],
   "source": [
    "with open (\"bubble_popper_twitter.txt\",\"r\") as myfile:\n",
    "    lines = [line.replace(\"\\n\",\"\") for line in myfile.readlines()]\n",
    "consumer_key, consumer_secret = lines[0], lines[1]\n",
    "auth = tweepy.AppAuthHandler(consumer_key, consumer_secret)\n",
    "api = tweepy.API(auth, wait_on_rate_limit=True, wait_on_rate_limit_notify=True)"
   ]
  },
  {
   "cell_type": "code",
   "execution_count": 7,
   "metadata": {
    "collapsed": true
   },
   "outputs": [],
   "source": [
    "with open (\"bubble_popper_postgres.txt\",\"r\") as myfile:\n",
    "    lines = [line.replace(\"\\n\",\"\") for line in myfile.readlines()] \n",
    "db, us, pw = 'bubble_popper', lines[0], lines[1]                     \n",
    "engine = create_engine('postgresql://%s:%s@localhost:5432/%s'%(us,pw,db))\n",
    "connstr = \"dbname='%s' user='%s' host='localhost' password='%s'\"%(db,us,pw)\n",
    "conn = None; conn = psycopg2.connect(connstr)"
   ]
  },
  {
   "cell_type": "markdown",
   "metadata": {},
   "source": [
    "Modified recommendation functions to perform leave-one-out validation"
   ]
  },
  {
   "cell_type": "code",
   "execution_count": 8,
   "metadata": {
    "collapsed": true
   },
   "outputs": [],
   "source": [
    "# Use full article set for recommendations\n",
    "def run_popper(articles,tweets,links,badlinks,friends,comfort_level,conn):\n",
    "\n",
    "    doc_set = clean_articles(articles,tweets)\n",
    "    doc_data = article_topics(doc_set)\n",
    "    pub_data = publication_scores(links,badlinks,friends,conn)    \n",
    "    user_score,user_bubble = define_bubble(pub_data.squeeze(),doc_data)\n",
    "    recs, alt_bubble = burst_bubble(user_score,user_bubble,comfort_level,conn)\n",
    "   \n",
    "    return recs,user_score,user_bubble,alt_bubble"
   ]
  },
  {
   "cell_type": "code",
   "execution_count": 9,
   "metadata": {
    "collapsed": true
   },
   "outputs": [],
   "source": [
    "# Use article set minus one (for each article)\n",
    "def leave_one_out(articles,tweets,links,badlinks,friends,comfort_level,conn):\n",
    "    \n",
    "    recsList,scoreList,bubbleList,altList = [],[],[],[]\n",
    "    links = [link for link in links if link not in badlinks]\n",
    "    \n",
    "    for leave_out in range(len(articles)):\n",
    "        \n",
    "        article_out = articles.pop(leave_out)        \n",
    "        link_out = links.pop(leave_out)\n",
    "        tweets_keep = tweets.drop(tweets.index[leave_out])\n",
    "        friend_out = friends.pop(leave_out)\n",
    "\n",
    "        doc_set = clean_articles(articles,tweets_keep)\n",
    "        doc_data = article_topics(doc_set)\n",
    "        pub_data = publication_scores(links,badlinks,friends,conn,num_articles=len(articles))    \n",
    "        user_score,user_bubble = define_bubble(pub_data.squeeze(),doc_data)\n",
    "        recs,alt_bubble = burst_bubble(user_score,user_bubble,comfort_level,conn)\n",
    "        \n",
    "        recsList.append(recs)\n",
    "        scoreList.append(user_score)\n",
    "        bubbleList.append(user_bubble)\n",
    "        altList.append(alt_bubble)\n",
    "        \n",
    "        articles.insert(leave_out,article_out)\n",
    "        links.insert(leave_out,link_out)\n",
    "        friends.insert(leave_out,friend_out)\n",
    "   \n",
    "    return recsList,scoreList,bubbleList,altList"
   ]
  },
  {
   "cell_type": "markdown",
   "metadata": {},
   "source": [
    "Ran recommendation algorithm for the first 10 followers (with 1,000+ tweets and shared articles) each of a conservative publication and a liberal publication not on the list of publications used for model training"
   ]
  },
  {
   "cell_type": "code",
   "execution_count": null,
   "metadata": {
    "collapsed": true
   },
   "outputs": [],
   "source": [
    "sleep_time = 5\n",
    "comfort_level = 2\n",
    "recsFull,scoreFull,bubbleFull,altFull = {},{},{},{}\n",
    "recsMinus,scoreMinus,bubbleMinus,altMinus = {},{},{},{}\n",
    "\n",
    "with open (\"bubble_popper_users.txt\",\"r\") as myfile:\n",
    "    users = [line.replace(\"\\n\",\"\") for line in myfile.readlines()]\n",
    "\n",
    "for user in users: \n",
    "    tweets,friends = twitter_profile(user,api)\n",
    "    links,tweets = twitter_links(tweets,conn)\n",
    "    articles,badlinks = twitter_articles(links)    \n",
    "    recsFull[user],scoreFull[user],bubbleFull[user],altFull[user] = run_popper(articles,tweets,links,badlinks,friends,comfort_level,conn)\n",
    "    recsMinus[user],scoreMinus[user],bubbleMinus[user],altMinus[user] = leave_one_out(articles,tweets,links,badlinks,friends,comfort_level,conn)\n",
    "    sleep(sleep_time)\n",
    "    \n",
    "pickle.dump([recsFull,scoreFull,bubbleFull,altFull,recsMinus,scoreMinus,bubbleMinus,altMinus],open('bubble_popper_results.pkl','wb'))"
   ]
  },
  {
   "cell_type": "markdown",
   "metadata": {},
   "source": [
    "Computed the average cosine similarity between user scores from the full and partial user dataset as a measure of recommendation stability"
   ]
  },
  {
   "cell_type": "code",
   "execution_count": 28,
   "metadata": {
    "collapsed": false
   },
   "outputs": [
    {
     "data": {
      "text/plain": [
       "0.99881292370686248"
      ]
     },
     "execution_count": 28,
     "metadata": {},
     "output_type": "execute_result"
    }
   ],
   "source": [
    "recStability = []\n",
    "for user in scoreFull.keys():\n",
    "    cossim = []\n",
    "    for leave_out in range(len(scoreMinus[user])):\n",
    "        cossim.append(cosine_similarity(scoreFull[user].reshape(1,-1),scoreMinus[user][leave_out].reshape(1,-1)))\n",
    "    recStability.append(np.mean(cossim))\n",
    "\n",
    "avgStability = np.mean(recStability)\n",
    "avgStability"
   ]
  },
  {
   "cell_type": "markdown",
   "metadata": {},
   "source": [
    "## Ideology Cluster Match"
   ]
  },
  {
   "cell_type": "markdown",
   "metadata": {},
   "source": [
    "Compared hand-labeled ideology and algorithm-predicted ideology of first 10 followers (with 1,000+ tweets and shared articles) each of a conservative publication and a liberal publication not on the list of publications used for model training"
   ]
  },
  {
   "cell_type": "code",
   "execution_count": 34,
   "metadata": {
    "collapsed": false
   },
   "outputs": [
    {
     "data": {
      "text/plain": [
       "[(1, 2, False),\n",
       " (1, 1, True),\n",
       " (0, 0, True),\n",
       " (1, 2, False),\n",
       " (0, 0, True),\n",
       " (0, 0, True),\n",
       " (1, 1, True),\n",
       " (0, 2, False),\n",
       " (1, 1, True),\n",
       " (1, 1, True),\n",
       " (1, 2, False),\n",
       " (1, 1, True),\n",
       " (0, 0, True),\n",
       " (0, 0, True),\n",
       " (0, 2, False),\n",
       " (0, 0, True),\n",
       " (1, 1, True),\n",
       " (0, 0, True),\n",
       " (0, 0, True),\n",
       " (1, 1, True)]"
      ]
     },
     "execution_count": 34,
     "metadata": {},
     "output_type": "execute_result"
    }
   ],
   "source": [
    "# 0 = mostly liberal, 1 = mostly conservative, 2 = mixed liberal, 3 = mixed conservative\n",
    "ideoMatch = []\n",
    "for user in bubbleFull.keys():    \n",
    "    ideoMatch.append((handLabel[user],bubbleFull[user].tolist()[0],np.equal(handLabel[user],bubbleFull[user].tolist()[0])))\n",
    "\n",
    "ideoMatch"
   ]
  }
 ],
 "metadata": {
  "anaconda-cloud": {},
  "kernelspec": {
   "display_name": "Python [conda env:projects]",
   "language": "python",
   "name": "conda-env-projects-py"
  },
  "language_info": {
   "codemirror_mode": {
    "name": "ipython",
    "version": 3
   },
   "file_extension": ".py",
   "mimetype": "text/x-python",
   "name": "python",
   "nbconvert_exporter": "python",
   "pygments_lexer": "ipython3",
   "version": "3.5.2"
  }
 },
 "nbformat": 4,
 "nbformat_minor": 1
}
